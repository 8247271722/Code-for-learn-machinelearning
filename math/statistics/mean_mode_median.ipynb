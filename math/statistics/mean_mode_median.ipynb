{
  "nbformat": 4,
  "nbformat_minor": 0,
  "metadata": {
    "colab": {
      "name": "mean_mode_median.ipynb",
      "provenance": [],
      "collapsed_sections": [],
      "authorship_tag": "ABX9TyN9NuqROZu1C4OxnV0NbRlI",
      "include_colab_link": true
    },
    "kernelspec": {
      "name": "python3",
      "display_name": "Python 3"
    }
  },
  "cells": [
    {
      "cell_type": "markdown",
      "metadata": {
        "id": "view-in-github",
        "colab_type": "text"
      },
      "source": [
        "<a href=\"https://colab.research.google.com/github/udaykiranreddykondreddy/Code-for-learn-machinelearning/blob/master/math/statistics/mean_mode_median.ipynb\" target=\"_parent\"><img src=\"https://colab.research.google.com/assets/colab-badge.svg\" alt=\"Open In Colab\"/></a>"
      ]
    },
    {
      "cell_type": "markdown",
      "metadata": {
        "id": "A9rRpIgFF8RU",
        "colab_type": "text"
      },
      "source": [
        "- It is really important to learn what is Mean, Median and Mode as a prerequisite for data science. \n",
        "- It gives a single value that attempts to describe a set of data by identifying the central position within that set of data. \n",
        "- These 3 terms are valid measures of central tendency of the data, but under different conditions, some measures of central tendency become more appropriate to use than others.\n"
      ]
    },
    {
      "cell_type": "markdown",
      "metadata": {
        "id": "6OlI1dbJj8Mx",
        "colab_type": "text"
      },
      "source": [
        "**<h2>Mean</h2>**"
      ]
    },
    {
      "cell_type": "markdown",
      "metadata": {
        "id": "fYJqWLAE8-Ff",
        "colab_type": "text"
      },
      "source": [
        "- The mean (or average) is the most popular and well-known measure of central tendency. \n",
        "- We can calculate the mean for both discrete and continuous data, although its use is most often with continuous data.\n",
        "- Formula \n",
        "\\begin{equation} \\overline{x} = \\frac{x_{(1)} + x_{(2)} + x_{(3)} + ... + x_{(n)}}{n} \\end{equation} \n",
        "\n",
        "- we can also write this queation as \n",
        "\\begin{equation} \\overline{x} = \\frac{\\sum_{i=1}^{n} x_{(i)}}{n} \\end{equation} \n",
        "    - x_bar = Mean value of data\n",
        "    - x1, x2, x3, ..., xn = n different values of data\n",
        "    - n = total no of samples\n",
        "- The mean is equal to the sum of all the values in the data set divided by the number of values in the data set.\n",
        "- one of its important properties is that it minimises error in the prediction of any one value in your data set. That is, it is the value that produces the lowest amount of error from all other values in the data set.\n",
        "- Another important property of the mean is that it includes every value in your data set as part of the calculation. \n",
        "- Also, the mean is the only measure of central tendency where the sum of the deviations of each value from the mean is always zero.\n"
      ]
    },
    {
      "cell_type": "markdown",
      "metadata": {
        "id": "ontRksUqPnpn",
        "colab_type": "text"
      },
      "source": [
        "**Example**\n",
        "- Let's consider an example where we will be finding the average salary of a Hyderabad city\n",
        "\n",
        "| worker | salary |\n",
        "|--------|--------|\n",
        "|   1    |   12000|\n",
        "|   2    |   13000|\n",
        "|   3    |   12000|\n",
        "|   4    |   14000|\n",
        "|   5    |   15000|\n",
        "|   6    |   13000|\n",
        "|   7    |   15000|\n",
        "|   8    |   16000|\n",
        "|   9    |   17000|\n",
        "|  10    |   14000|\n",
        "|  11    |   13000|\n",
        "|  12    |   12000|"
      ]
    },
    {
      "cell_type": "code",
      "metadata": {
        "id": "ikjjEP23ECmp",
        "colab_type": "code",
        "colab": {
          "base_uri": "https://localhost:8080/",
          "height": 34
        },
        "outputId": "df3c9860-48d1-40ca-d028-5e5fb2ef5462"
      },
      "source": [
        "# lets calculate the mean value\n",
        "\n",
        "values = [12000, 13000, 12000, 14000, 15000, 13000, 15000, 16000, 17000, 14000, 13000, 12000]\n",
        "\n",
        "mean = sum(values) / len(values)\n",
        "print(\"The average salary of Hyderabad people is {} rupees\".format(mean))"
      ],
      "execution_count": 5,
      "outputs": [
        {
          "output_type": "stream",
          "text": [
            "The average salary of Hyderabad people is 13833.333333333334 rupees\n"
          ],
          "name": "stdout"
        }
      ]
    },
    {
      "cell_type": "markdown",
      "metadata": {
        "id": "D8CkNa7ySrmt",
        "colab_type": "text"
      },
      "source": [
        "\n",
        "\n",
        "```\n",
        "We should not use mean when we have outliers in the data(extreme values)\n",
        "```\n",
        "\n",
        "**Example**\n",
        "- Let's consider an example where we will be finding the average salary of a Hyderabad city when we add a highly-skilled guy whose salary is **76000** rupees\n",
        "\n",
        "| worker | salary |\n",
        "|--------|--------|\n",
        "|   1    |   12000|\n",
        "|   2    |   13000|\n",
        "|   3    |   12000|\n",
        "|   4    |   14000|\n",
        "|   5    |   15000|\n",
        "|   6    |   13000|\n",
        "|   7    |   15000|\n",
        "|   8    |   16000|\n",
        "|   9    |   17000|\n",
        "|  10    |   14000|\n",
        "|  11    |   13000|\n",
        "|  12    |   76000|\n",
        "\n"
      ]
    },
    {
      "cell_type": "code",
      "metadata": {
        "id": "yGjUNgWmRoD_",
        "colab_type": "code",
        "colab": {
          "base_uri": "https://localhost:8080/",
          "height": 34
        },
        "outputId": "ae3c8d32-5ac5-43af-8c3a-ed2eb91ffd17"
      },
      "source": [
        "# lets calculate the mean value\n",
        "\n",
        "values = [12000, 13000, 12000, 14000, 15000, 13000, 15000, 16000, 17000, 14000, 13000, 76000]\n",
        "\n",
        "mean = sum(values) / len(values)\n",
        "print(\"The average salary of Hyderabad people is {} rupees\".format(mean))"
      ],
      "execution_count": 14,
      "outputs": [
        {
          "output_type": "stream",
          "text": [
            "The average salary of Hyderabad people is 19166.666666666668 rupees\n"
          ],
          "name": "stdout"
        }
      ]
    },
    {
      "cell_type": "markdown",
      "metadata": {
        "id": "Mj248GULTU0Z",
        "colab_type": "text"
      },
      "source": [
        "- So, if we see the mean value where almost 11 people's salary is below average, saying that **19166** rupees is a good central value? doesn’t sound right.\n",
        "- Now if we add a **CEO salary(200000 rupees)** to the list then the mean values will be around **29500 rupees**. Not even close right?\n",
        "- When there are extreme values in a data set, the arithmetic mean is not a good enough representation of the data anymore.\n",
        "- And we should also not prefer to use mean when we have skewed data. Mean loses its ability to provide the best central location for the data because the skewed data is dragging it away from the typical value.\n",
        "\n",
        "**Advantages**\n",
        "  - Most popular measure in fields such as business, engineering and computer science.\n",
        "  - It is unique - there is only one answer.\n",
        "  - Useful when comparing sets of data\n",
        "\n",
        "**Disadvantages**\n",
        "  - Affected by extreme values (outliers)\n"
      ]
    },
    {
      "cell_type": "markdown",
      "metadata": {
        "id": "mkpDrCfEVc5Q",
        "colab_type": "text"
      },
      "source": [
        "**<h2>Median</h2>**\n",
        "\n",
        "- You get the median of a set by simply arranging all the elements of it from smallest to greatest, then taking the middle value.\n",
        "- Lets consider an example  X = [3,1,6,7,2,8,9]\n",
        "   - The first step is to sort the given values\n",
        "   - X = [1,2,3,6,7,8,9]\n",
        "   - Take the middle value\n",
        "       - If the length of X is odd we can take the middle value so here median is **6**\n",
        "       - If the length of X is even then we take the average of 2 middle values \n",
        "   - The mean of this data is **5.1** which is close to a median value"
      ]
    },
    {
      "cell_type": "code",
      "metadata": {
        "id": "DNt9FybNTNYZ",
        "colab_type": "code",
        "colab": {
          "base_uri": "https://localhost:8080/",
          "height": 50
        },
        "outputId": "ab4e32e4-5834-4599-8904-3c11e3faeb92"
      },
      "source": [
        "# lets take the same example \n",
        "\n",
        "values = [12000, 13000, 12000, 14000, 15000, 13000, 15000, 16000, 17000, 14000, 13000, 12000]\n",
        "values = sorted(values)\n",
        "\n",
        "if len(values)%2==0:\n",
        "  mid_index = int(len(values)//2)\n",
        "  median = (values[mid_index - 1] + values[mid_index]) / 2\n",
        "else:\n",
        "  mid_index = int(len(values)//2)\n",
        "  median = values[mid_index]\n",
        "\n",
        "mean = sum(values) / len(values)\n",
        "print(\"The median salary of Hyderabad people is {} rupees\".format(median))\n",
        "print(\"The mean salary of Hyderabad people is {} rupees\".format(mean))"
      ],
      "execution_count": 15,
      "outputs": [
        {
          "output_type": "stream",
          "text": [
            "The median salary of Hyderabad people is 13500.0 rupees\n",
            "The mean salary of Hyderabad people is 13833.333333333334 rupees\n"
          ],
          "name": "stdout"
        }
      ]
    },
    {
      "cell_type": "markdown",
      "metadata": {
        "id": "jveB88TiZjAi",
        "colab_type": "text"
      },
      "source": [
        "If you see here mean and median are very close. let's see by adding the extreme values\n",
        "\n"
      ]
    },
    {
      "cell_type": "code",
      "metadata": {
        "id": "zGHCFtBFYc9W",
        "colab_type": "code",
        "colab": {
          "base_uri": "https://localhost:8080/",
          "height": 50
        },
        "outputId": "eeae2e38-4b2e-4539-d81d-9d5961f262f3"
      },
      "source": [
        "# lets take the same example \n",
        "\n",
        "values = [12000, 13000, 12000, 14000, 15000, 13000, 15000, 16000, 17000, 14000, 13000, 76000]\n",
        "values = sorted(values)\n",
        "\n",
        "if len(values)%2==0:\n",
        "  mid_index = int(len(values)//2)\n",
        "  median = (values[mid_index - 1] + values[mid_index]) / 2\n",
        "else:\n",
        "  mid_index = int(len(values)//2)\n",
        "  median = values[mid_index]\n",
        "\n",
        "mean = sum(values) / len(values)\n",
        "print(\"The median salary of Hyderabad people is {} rupees\".format(median))\n",
        "print(\"The mean salary of Hyderabad people is {} rupees\".format(mean))"
      ],
      "execution_count": 16,
      "outputs": [
        {
          "output_type": "stream",
          "text": [
            "The median salary of Hyderabad people is 14000.0 rupees\n",
            "The mean salary of Hyderabad people is 19166.666666666668 rupees\n"
          ],
          "name": "stdout"
        }
      ]
    },
    {
      "cell_type": "markdown",
      "metadata": {
        "id": "kPsVZcJJZzq4",
        "colab_type": "text"
      },
      "source": [
        "It's clear even when we have extreme values median gives a better central value for the whole data than the mean would have been. \n",
        "\n",
        "**Note:** Even if it was, median by itself is not a good enough number to describe a data set with outliers, mainly because only by looking at the median value, we don’t even suspect that **skilled guy or CEO** is in the room, too. And in real-life data science problems, you want to know about **“Skilled guy or CEO”**-es in the rooms. We will see about this problem in the next articles.\n",
        "\n",
        "**Advantages**\n",
        "  - Extreme values (outliers) do not affect the median as strongly as they do the mean.\n",
        "  - Useful when comparing sets of data.\n",
        "  - It is unique - there is only one answer.\n",
        "\n",
        "**Disadvantages**\n",
        "  -  Not as popular as mean.\n",
        "\n"
      ]
    },
    {
      "cell_type": "markdown",
      "metadata": {
        "id": "NB_5A3uUa-rI",
        "colab_type": "text"
      },
      "source": [
        "**<h2>Mode</h2>**\n",
        "\n",
        "- The definition is simple, mode is the element that occurs most often in data. \n",
        "- If you plot your data in histograms, the mode will be the highest bar in a bar chart or histogram. \n",
        "- You can, therefore, sometimes consider the mode as being the most popular option.\n",
        "- Lets consider an example X = [3,1,6,1,2,1,9]\n",
        "    - Get the value which is repeated most of the times\n",
        "    - The value 1 is the most repeated and it is the mode of the data. \n",
        "- one of the problems with the mode is that it is not unique, so it leaves us with problems when we have two or more values that share the highest frequency\n",
        "- Lets consider an example X = [3,1,6,1,2,9,2]\n",
        "    - The value 1 and 2 are the most repeated and those two values are the mode of the data. \n",
        "    - If we get one mode we call it as **Uni-modal**.\n",
        "    - If we get two mode values we call it as **Bi-modal**.\n",
        "    - If we get more than two we call it as **Multi-modal**.\n",
        "- Another problem with the mode is that it will not provide us with a very good measure of central tendency when the most common value is far away from the rest of the data in the data set.\n",
        "- It is possible to have more than one mode, and it is possible to have no mode.  If there is no mode-write \"no mode\", do not write zero (0)."
      ]
    },
    {
      "cell_type": "code",
      "metadata": {
        "id": "bM70boQsZxMf",
        "colab_type": "code",
        "colab": {
          "base_uri": "https://localhost:8080/",
          "height": 50
        },
        "outputId": "5cd3d15f-682c-4bba-da91-d3af44512ca3"
      },
      "source": [
        "# lets calculate Mode\n",
        "\n",
        "def calculate_mode(values):\n",
        "  values.sort()#sorted values [3,4,4,5,6,6,6,7,8,8,8,11]\n",
        "  frequency_count=[]\n",
        "\n",
        "  i = 0\n",
        "  while i < len(values) : \n",
        "      frequency_count.append(values.count(values[i])) \n",
        "      i += 1\n",
        "  #frequency_count = [1, 2, 2, 1, 3, 3, 3, 1, 3, 3, 3, 1]\n",
        "  #the occurrences for each number in sorted values\n",
        "  count_dict = dict(zip(values, frequency_count)) \n",
        "  # now you can create a custom dictionary count_dict for value in sorted values : the occurrences of each value\n",
        "  mode={value for (value,count) in count_dict.items() if count == max(frequency_count) } \n",
        "  return mode\n",
        "  \n",
        "\n",
        "values = [11, 8, 8, 3, 4, 4, 5, 6, 6, 6, 7, 8]\n",
        "mode = calculate_mode(values)\n",
        "print(\"Mode(s) is/are :\" + str(mode)) \n",
        "\n",
        "values = [1,2,3,4,5,6,7]\n",
        "mode = calculate_mode(values)\n",
        "print(\"Mode(s) is/are :\" + str(mode)) \n",
        "\n"
      ],
      "execution_count": 6,
      "outputs": [
        {
          "output_type": "stream",
          "text": [
            "Mode(s) is/are :{8, 6}\n",
            "Mode(s) is/are :{1, 2, 3, 4, 5, 6, 7}\n"
          ],
          "name": "stdout"
        }
      ]
    },
    {
      "cell_type": "markdown",
      "metadata": {
        "id": "Ny1xhI2CKbNm",
        "colab_type": "text"
      },
      "source": [
        "So if we give an array with no repeated values, we get all values as a mode.\n",
        "\n",
        "**Advantages**\n",
        "   - Extreme values (outliers) do not affect the mode.\n",
        "   \n",
        "**Disadvantages**\n",
        "   - Not as popular as mean and median.\n",
        "   - Not necessarily unique - may be more than one answer\n",
        "   - When no values repeat in the data set, the mode is every value and is useless.\n",
        "   - When there is more than one mode, it is difficult to interpret and/or compare."
      ]
    },
    {
      "cell_type": "markdown",
      "metadata": {
        "id": "dW-DYvUOLmyE",
        "colab_type": "text"
      },
      "source": [
        "**<h3>What to use? Mean, median or mode?</h3>**\n",
        "\n",
        "- There is no definite answer to this question.\n",
        "- when to use which one? That really depends on the particular case.\n",
        "- There are some rules of thumb, but there is no point of using only one number to describe a dataset.\n",
        "\n",
        "**Two important points**\n",
        "- If we add any value to all the points in the dataset. The Mean, Median and Mode values will be also shifted by the same value. If you add 5 to each data value, you will add 5 to the mean, mode and median.\n",
        "- If we multiply any value to all the points in the dataset. The Mean, Median and Mode values will be also shifted by the same value. If you multiply 2 to each data value, you will multiple 2 to the mean, mode and median.\n",
        "- Let's see an example\n",
        "\n",
        "| Datatype | values | Mean | Mode | Median  |\n",
        "|----------|--------|------|--------|-------|\n",
        "| Original data   |   6, 7, 8, 10, 12, 14, 14, 15, 16, 20| 12.2 | 14 | 13 |\n",
        "| Each value in original data added by 5    |   11, 12, 13, 15, 17, 19, 19, 20, 21, 25| 17.2 | 19 | 18\n",
        "| Each value in original data multiplied by 2| 12, 14, 16, 20, 24, 28, 28, 30, 32, 40 | 24.4 | 28 |26|\n"
      ]
    },
    {
      "cell_type": "markdown",
      "metadata": {
        "id": "PK4_J4MnZpGc",
        "colab_type": "text"
      },
      "source": [
        "![alt text](https://blog.minitab.com/hubfs/Imported_Blog_Media/1_curves.png)\n",
        "\n",
        "\n",
        "\n",
        "```\n",
        "If you understand it completely, then this image will be self-explanatory. \n",
        "```\n",
        "\n"
      ]
    },
    {
      "cell_type": "code",
      "metadata": {
        "id": "BrUmbngPV4oy",
        "colab_type": "code",
        "colab": {}
      },
      "source": [
        ""
      ],
      "execution_count": 0,
      "outputs": []
    }
  ]
}