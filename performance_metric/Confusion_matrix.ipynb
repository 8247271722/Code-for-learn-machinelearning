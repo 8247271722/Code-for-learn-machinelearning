{
  "nbformat": 4,
  "nbformat_minor": 0,
  "metadata": {
    "colab": {
      "name": "Confusion_matrix.ipynb",
      "provenance": [],
      "collapsed_sections": [],
      "authorship_tag": "ABX9TyNG7nwsJPpgUUEs52Y8apFZ",
      "include_colab_link": true
    },
    "kernelspec": {
      "name": "python3",
      "display_name": "Python 3"
    }
  },
  "cells": [
    {
      "cell_type": "markdown",
      "metadata": {
        "id": "view-in-github",
        "colab_type": "text"
      },
      "source": [
        "<a href=\"https://colab.research.google.com/github/udaykiranreddykondreddy/Code-for-learn-machinelearning/blob/master/performance_metric/Confusion_matrix.ipynb\" target=\"_parent\"><img src=\"https://colab.research.google.com/assets/colab-badge.svg\" alt=\"Open In Colab\"/></a>"
      ]
    },
    {
      "cell_type": "markdown",
      "metadata": {
        "id": "naBM0dQiC1-E",
        "colab_type": "text"
      },
      "source": [
        "<img src=\"http://drive.google.com/uc?export=view&id=1xZggtEjnrMp9QBm_4q5RJIfJyfSoSJ9p\" height=\"150\" align=\"left\"/>\n",
        "<h1>&nbsp;<a href=\"https://instagram.com/learn.machinelearning\">Learn.MachineLearning</a></h1>\n",
        "<h2>&nbsp;Confusion Matrix, Precisioin, Recall and F1 score</h2>"
      ]
    },
    {
      "cell_type": "markdown",
      "metadata": {
        "id": "xrrVvaebQvFu",
        "colab_type": "text"
      },
      "source": [
        "\n",
        "<img src=\"http://drive.google.com/uc?export=view&id=1Mt2aVaXZF0k3nzzix5h1iwL1womr8oaB\" height=\"250\"/>"
      ]
    },
    {
      "cell_type": "markdown",
      "metadata": {
        "id": "HZbBs461W-cS",
        "colab_type": "text"
      },
      "source": [
        "**<h3> Load dataset </h3>**"
      ]
    },
    {
      "cell_type": "code",
      "metadata": {
        "id": "jIv706E6FNK9",
        "colab_type": "code",
        "colab": {}
      },
      "source": [
        "# Import libraries \n",
        "from sklearn import datasets\n",
        "from sklearn.model_selection import train_test_split\n",
        "from sklearn.metrics import confusion_matrix\n",
        "from sklearn.linear_model import LogisticRegression\n",
        "import numpy as np"
      ],
      "execution_count": 0,
      "outputs": []
    },
    {
      "cell_type": "code",
      "metadata": {
        "id": "767xNHNGC6jr",
        "colab_type": "code",
        "colab": {}
      },
      "source": [
        "# Load data(We will be using breast cancer dataset)\n",
        "data = datasets.load_breast_cancer()"
      ],
      "execution_count": 0,
      "outputs": []
    },
    {
      "cell_type": "code",
      "metadata": {
        "id": "41GwSXa4XjR5",
        "colab_type": "code",
        "colab": {}
      },
      "source": [
        "x_data, y_data = data[\"data\"], data[\"target\"]"
      ],
      "execution_count": 0,
      "outputs": []
    },
    {
      "cell_type": "code",
      "metadata": {
        "id": "AenjPxi_rXKE",
        "colab_type": "code",
        "outputId": "2a580e7b-386e-4abd-8188-9d62f06b2f4f",
        "colab": {
          "base_uri": "https://localhost:8080/",
          "height": 34
        }
      },
      "source": [
        "np.unique(y_data)"
      ],
      "execution_count": 67,
      "outputs": [
        {
          "output_type": "execute_result",
          "data": {
            "text/plain": [
              "array([0, 1])"
            ]
          },
          "metadata": {
            "tags": []
          },
          "execution_count": 67
        }
      ]
    },
    {
      "cell_type": "code",
      "metadata": {
        "id": "Yb32ontqXkVj",
        "colab_type": "code",
        "colab": {}
      },
      "source": [
        "# split data into train and test\n",
        "X_train, X_test, y_train, y_test = train_test_split(x_data, y_data, test_size=0.30, random_state=35)"
      ],
      "execution_count": 0,
      "outputs": []
    },
    {
      "cell_type": "code",
      "metadata": {
        "id": "hL6EfgiqYMQn",
        "colab_type": "code",
        "outputId": "51396762-3ad2-452f-82ff-76b8285c2dac",
        "colab": {
          "base_uri": "https://localhost:8080/",
          "height": 151
        }
      },
      "source": [
        "# Train a model with logistic regression\n",
        "clf = LogisticRegression().fit(X_train, y_train)\n",
        "predicted_values = clf.predict(X_test)"
      ],
      "execution_count": 69,
      "outputs": [
        {
          "output_type": "stream",
          "text": [
            "/usr/local/lib/python3.6/dist-packages/sklearn/linear_model/_logistic.py:940: ConvergenceWarning: lbfgs failed to converge (status=1):\n",
            "STOP: TOTAL NO. of ITERATIONS REACHED LIMIT.\n",
            "\n",
            "Increase the number of iterations (max_iter) or scale the data as shown in:\n",
            "    https://scikit-learn.org/stable/modules/preprocessing.html\n",
            "Please also refer to the documentation for alternative solver options:\n",
            "    https://scikit-learn.org/stable/modules/linear_model.html#logistic-regression\n",
            "  extra_warning_msg=_LOGISTIC_SOLVER_CONVERGENCE_MSG)\n"
          ],
          "name": "stderr"
        }
      ]
    },
    {
      "cell_type": "code",
      "metadata": {
        "id": "ZVDaQXe0Yhfa",
        "colab_type": "code",
        "colab": {}
      },
      "source": [
        "results = confusion_matrix(y_test, predicted_values,labels=[0,1])"
      ],
      "execution_count": 0,
      "outputs": []
    },
    {
      "cell_type": "code",
      "metadata": {
        "id": "AlBumzyllw0B",
        "colab_type": "code",
        "outputId": "eeb8bbcf-67c9-42ed-e29e-b96e7686f7d7",
        "colab": {
          "base_uri": "https://localhost:8080/",
          "height": 50
        }
      },
      "source": [
        "print(results)"
      ],
      "execution_count": 71,
      "outputs": [
        {
          "output_type": "stream",
          "text": [
            "[[ 52   7]\n",
            " [  5 107]]\n"
          ],
          "name": "stdout"
        }
      ]
    },
    {
      "cell_type": "markdown",
      "metadata": {
        "id": "CWV7gxgptJds",
        "colab_type": "text"
      },
      "source": [
        "**So lets say 0 as positive and 1 as negative**"
      ]
    },
    {
      "cell_type": "markdown",
      "metadata": {
        "id": "k3cPbp8fvyxJ",
        "colab_type": "text"
      },
      "source": [
        "- True Positives (tp): Actual value is 0 and predicted value is 0\n",
        "- Flase Positives (fp): Actual value is 1 and predicted value is 0\n",
        "- True Negatives (tn): Actual value is 1 and predicted value is 1\n",
        "- False Negatives (fn): Actual value is 0 and predicted value is 1"
      ]
    },
    {
      "cell_type": "code",
      "metadata": {
        "id": "IwTibT5pmSRv",
        "colab_type": "code",
        "outputId": "20cdcc42-6e43-4962-b847-6c32f4bbbb26",
        "colab": {
          "base_uri": "https://localhost:8080/",
          "height": 118
        }
      },
      "source": [
        "tp = results[0][0]\n",
        "fp = results[1][0]\n",
        "tn = results[1][1]\n",
        "fn = results[0][1]\n",
        "print(\"Total predicted Positives \", tp + fp)\n",
        "print(\"Total predicted Negatives \", tn + fn)\n",
        "print(\"True Positives \", tp)\n",
        "print(\"False Positives \", fp)\n",
        "print(\"True Negatives \", tn)\n",
        "print(\"False Negatives \", fn)"
      ],
      "execution_count": 72,
      "outputs": [
        {
          "output_type": "stream",
          "text": [
            "Total predicted Positives  57\n",
            "Total predicted Negatives  114\n",
            "True Positives  52\n",
            "False Positives  5\n",
            "True Negatives  107\n",
            "False Negatives  7\n"
          ],
          "name": "stdout"
        }
      ]
    },
    {
      "cell_type": "markdown",
      "metadata": {
        "id": "ZPMH0Rhqvh1J",
        "colab_type": "text"
      },
      "source": [
        "**<h3> Precision </h3>**\n",
        "\n",
        "- It is the ratio of tp to tp + fp\n",
        "```\n",
        "Precision = tp/(tp+fp)\n",
        "```\n",
        "- It says how many positive values it predicted correctly from the total perdicted positive values"
      ]
    },
    {
      "cell_type": "code",
      "metadata": {
        "id": "9m02ce2Lswni",
        "colab_type": "code",
        "outputId": "dfc3837d-37b1-46b2-a01c-d444a6140e99",
        "colab": {
          "base_uri": "https://localhost:8080/",
          "height": 34
        }
      },
      "source": [
        "precision = tp / (tp+fp)\n",
        "print(precision)"
      ],
      "execution_count": 73,
      "outputs": [
        {
          "output_type": "stream",
          "text": [
            "0.9122807017543859\n"
          ],
          "name": "stdout"
        }
      ]
    },
    {
      "cell_type": "markdown",
      "metadata": {
        "id": "ajqdy8XMyLRV",
        "colab_type": "text"
      },
      "source": [
        "**<h3> Recall </h3>**\n",
        "\n",
        "- It is also called as sensitivity or True Positive Rate \n",
        "- It is the ratio of tp to tp + fn\n",
        "```\n",
        "Recall = tp/(tp+fn)\n",
        "```\n",
        "- It says how many positive values it predicted correctly from the total actual positive values"
      ]
    },
    {
      "cell_type": "code",
      "metadata": {
        "id": "BCntkJSbyAlj",
        "colab_type": "code",
        "outputId": "6ceaa30c-ce09-43cb-e33a-40edaa3235ce",
        "colab": {
          "base_uri": "https://localhost:8080/",
          "height": 34
        }
      },
      "source": [
        "recall = tp / (tp+fn)\n",
        "print(recall)"
      ],
      "execution_count": 74,
      "outputs": [
        {
          "output_type": "stream",
          "text": [
            "0.8813559322033898\n"
          ],
          "name": "stdout"
        }
      ]
    },
    {
      "cell_type": "markdown",
      "metadata": {
        "id": "qZLjnRmC3Kjs",
        "colab_type": "text"
      },
      "source": [
        "**<h3> Trade-off </h3>**\n",
        "- High Recall and low Precision\n",
        "- Low Recall and High Precision"
      ]
    },
    {
      "cell_type": "markdown",
      "metadata": {
        "id": "DVQVyISd1q3A",
        "colab_type": "text"
      },
      "source": [
        "**<h3> Errors </h3>**\n",
        "\n",
        "- 2 types of errors Type I and Type II\n",
        "- False Positives are Type I error\n",
        "- False Positive Rate (caused by Type I Error)\n",
        "```\n",
        "False Positive Rate = fp / (fp+tn)\n",
        "```\n",
        "- Flase negatives are Type II error\n",
        "- False negative Rate (caused by Type II Error)\n",
        "```\n",
        "False Negatve Rate = fn / (fn+tp)\n",
        "```"
      ]
    },
    {
      "cell_type": "code",
      "metadata": {
        "id": "ixVKWFoW68p0",
        "colab_type": "code",
        "outputId": "4a8b0591-1481-4c0d-c4b6-c21e61fdb5e7",
        "colab": {
          "base_uri": "https://localhost:8080/",
          "height": 50
        }
      },
      "source": [
        "fpr = fp / (fp+tn)\n",
        "print(\"False Positive Rate \", fpr)\n",
        "fnr = fn / (fn+tp)\n",
        "print(\"False Negative Rate \", fnr)"
      ],
      "execution_count": 75,
      "outputs": [
        {
          "output_type": "stream",
          "text": [
            "False Positive Rate  0.044642857142857144\n",
            "False Negative Rate  0.11864406779661017\n"
          ],
          "name": "stdout"
        }
      ]
    },
    {
      "cell_type": "markdown",
      "metadata": {
        "id": "TUt3y_K_7RvM",
        "colab_type": "text"
      },
      "source": [
        "**<h3> F1 Score </h3>**\n",
        "\n",
        "- It is a Harmonic Mean of both Precision and Recall\n",
        "```\n",
        "f_score = 2*recall*precision / (recall + precision)\n",
        "```"
      ]
    },
    {
      "cell_type": "code",
      "metadata": {
        "id": "wLn1006pyWOC",
        "colab_type": "code",
        "outputId": "568b9c1f-cd2a-44c3-e2b4-71561b7d01e8",
        "colab": {
          "base_uri": "https://localhost:8080/",
          "height": 67
        }
      },
      "source": [
        "f_score_svm = 2*recall*precision / (recall + precision)\n",
        "print(\"Precision value \",precision)\n",
        "print(\"Recall value \",recall)\n",
        "print(\"F Score \",f_score_svm)"
      ],
      "execution_count": 76,
      "outputs": [
        {
          "output_type": "stream",
          "text": [
            "Precision value  0.9122807017543859\n",
            "Recall value  0.8813559322033898\n",
            "F Score  0.8965517241379309\n"
          ],
          "name": "stdout"
        }
      ]
    },
    {
      "cell_type": "code",
      "metadata": {
        "colab_type": "code",
        "outputId": "9c24f72e-07aa-4f55-ca35-b8176f33603d",
        "id": "hBxwcsn5uSsX",
        "colab": {
          "base_uri": "https://localhost:8080/",
          "height": 101
        }
      },
      "source": [
        "# Train a model with SVM\n",
        "#?svm.SVC()\n",
        "clf = svm.SVC().fit(X_train, y_train)\n",
        "predicted_values = clf.predict(X_test)\n",
        "results = confusion_matrix(y_test, predicted_values,labels=[0,1])\n",
        "print(results)\n",
        "tp1 = results[0][0]\n",
        "fp1 = results[1][0]\n",
        "tn1 = results[1][1]\n",
        "fn1 = results[0][1]\n",
        "precision_logistic = tp1 / (tp1+fp1)\n",
        "recall_logistic = tp1 / (tp1+fn1)\n",
        "f_score_logistic = 2*recall_logistic*precision_logistic / (recall_logistic + precision_logistic)\n",
        "print(\"Precision value \",precision_logistic)\n",
        "print(\"Recall value \",recall_logistic)\n",
        "print(\"F Score \",f_score_logistic)\n"
      ],
      "execution_count": 77,
      "outputs": [
        {
          "output_type": "stream",
          "text": [
            "[[ 48  11]\n",
            " [  1 111]]\n",
            "Precision value  0.9795918367346939\n",
            "Recall value  0.8135593220338984\n",
            "F Score  0.888888888888889\n"
          ],
          "name": "stdout"
        }
      ]
    },
    {
      "cell_type": "code",
      "metadata": {
        "id": "OydNN9gn9S-m",
        "colab_type": "code",
        "colab": {}
      },
      "source": [
        ""
      ],
      "execution_count": 0,
      "outputs": []
    }
  ]
}